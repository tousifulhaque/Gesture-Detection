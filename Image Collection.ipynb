{
 "cells": [
  {
   "cell_type": "code",
   "execution_count": 12,
   "id": "91b6f9da",
   "metadata": {},
   "outputs": [],
   "source": [
    "import cv2\n",
    "import os\n",
    "import uuid\n",
    "import time"
   ]
  },
  {
   "cell_type": "code",
   "execution_count": 16,
   "id": "6e65e7ee",
   "metadata": {},
   "outputs": [],
   "source": [
    "labels = ['thumbsup', 'thumbsdown', 'thankyou', 'livelong']\n",
    "number_imgs = 5"
   ]
  },
  {
   "cell_type": "code",
   "execution_count": 14,
   "id": "2d49f21f",
   "metadata": {},
   "outputs": [],
   "source": [
    "IMAGES_PATH = os.path.join('images', 'collectedimages')"
   ]
  },
  {
   "cell_type": "markdown",
   "id": "997f3edb",
   "metadata": {},
   "source": [
    "if not os.path.exists(IMAGES_PATH):\n",
    "    if os.name == 'posix':\n",
    "        !mkdir -p"
   ]
  },
  {
   "cell_type": "code",
   "execution_count": null,
   "id": "515919d3",
   "metadata": {},
   "outputs": [],
   "source": [
    "for label in labels:\n",
    "    cap = cv2.VideoCapture(0)\n",
    "    print('Collecting images for {}'.format(label))\n",
    "    time.sleep(5)\n",
    "    for imgnum in range(number_imgs):\n",
    "        print('Collecting image {}'.format(imgnum))\n",
    "        ret, frame = cap.read()\n",
    "        imgname = os.path.join(IMAGES_PATH,label,label+'.'+'{}.jpg'.format(str(uuid.uuid1())))\n",
    "        cv2.imwrite(imgname, frame)\n",
    "        cv2.imshow('frame', frame)\n",
    "        time.sleep(2)\n",
    "\n",
    "        if cv2.waitKey(1) & 0xFF == ord('q'):\n",
    "            break\n",
    "cap.release()\n",
    "cv2.destroyAllWindows()"
   ]
  },
  {
   "cell_type": "markdown",
   "id": "5180fa28",
   "metadata": {},
   "source": [
    "## Image Labelling"
   ]
  },
  {
   "cell_type": "code",
   "execution_count": 17,
   "id": "069206e8",
   "metadata": {},
   "outputs": [
    {
     "name": "stdout",
     "output_type": "stream",
     "text": [
      "Collecting pyqt5\n",
      "  Downloading PyQt5-5.15.5-cp36-abi3-manylinux1_x86_64.whl (8.3 MB)\n",
      "\u001b[K     |████████████████████████████████| 8.3 MB 2.4 MB/s eta 0:00:01     |██████████████████▉             | 4.9 MB 1.0 MB/s eta 0:00:04     |█████████████████████████████▉  | 7.8 MB 2.4 MB/s eta 0:00:01\n",
      "\u001b[?25hCollecting lxml\n",
      "  Downloading lxml-4.6.3-cp38-cp38-manylinux2014_x86_64.whl (6.8 MB)\n",
      "\u001b[K     |████████████████████████████████| 6.8 MB 2.2 MB/s eta 0:00:01\n",
      "\u001b[?25hCollecting PyQt5-sip<13,>=12.8\n",
      "  Downloading PyQt5_sip-12.9.0-cp38-cp38-manylinux1_x86_64.whl (332 kB)\n",
      "\u001b[K     |████████████████████████████████| 332 kB 2.0 MB/s eta 0:00:01\n",
      "\u001b[?25hCollecting PyQt5-Qt5>=5.15.2\n",
      "  Downloading PyQt5_Qt5-5.15.2-py3-none-manylinux2014_x86_64.whl (59.9 MB)\n",
      "\u001b[K     |████████████████████████████████| 59.9 MB 203 kB/s eta 0:00:01    |█▋                              | 3.1 MB 3.4 MB/s eta 0:00:17     |████████████▍                   | 23.2 MB 2.3 MB/s eta 0:00:17     |██████████████                  | 26.2 MB 1.8 MB/s eta 0:00:20     |█████████████████▊              | 33.1 MB 1.3 MB/s eta 0:00:21     |██████████████████              | 33.9 MB 1.3 MB/s eta 0:00:21\n",
      "\u001b[?25hInstalling collected packages: PyQt5-sip, PyQt5-Qt5, pyqt5, lxml\n",
      "Successfully installed PyQt5-Qt5-5.15.2 PyQt5-sip-12.9.0 lxml-4.6.3 pyqt5-5.15.5\n",
      "\u001b[33mWARNING: You are using pip version 21.2.4; however, version 21.3.1 is available.\n",
      "You should consider upgrading via the '/home/tousif/dl_env/bin/python3 -m pip install --upgrade pip' command.\u001b[0m\n"
     ]
    }
   ],
   "source": [
    "!pip install --upgrade pyqt5 lxml"
   ]
  },
  {
   "cell_type": "code",
   "execution_count": 20,
   "id": "afbf3cd0",
   "metadata": {},
   "outputs": [
    {
     "name": "stdout",
     "output_type": "stream",
     "text": [
      "Collecting labelImg\n",
      "  Downloading labelImg-1.8.6.tar.gz (247 kB)\n",
      "\u001b[K     |████████████████████████████████| 247 kB 435 kB/s eta 0:00:01\n",
      "\u001b[?25hRequirement already satisfied: lxml in /home/tousif/dl_env/lib/python3.8/site-packages (from labelImg) (4.6.3)\n",
      "Requirement already satisfied: pyqt5 in /home/tousif/dl_env/lib/python3.8/site-packages (from labelImg) (5.15.5)\n",
      "Requirement already satisfied: PyQt5-Qt5>=5.15.2 in /home/tousif/dl_env/lib/python3.8/site-packages (from pyqt5->labelImg) (5.15.2)\n",
      "Requirement already satisfied: PyQt5-sip<13,>=12.8 in /home/tousif/dl_env/lib/python3.8/site-packages (from pyqt5->labelImg) (12.9.0)\n",
      "Building wheels for collected packages: labelImg\n",
      "  Building wheel for labelImg (setup.py) ... \u001b[?25ldone\n",
      "\u001b[?25h  Created wheel for labelImg: filename=labelImg-1.8.6-py2.py3-none-any.whl size=261528 sha256=853ed88c4cfaf6cd93d15d0348bc7b092e8664623450acf37485c7cd3998fbf5\n",
      "  Stored in directory: /home/tousif/.cache/pip/wheels/c3/9e/49/8368f5bc5347b5e54aef95b7b03ec56af7e23ea4c16c82109c\n",
      "Successfully built labelImg\n",
      "Installing collected packages: labelImg\n",
      "Successfully installed labelImg-1.8.6\n",
      "\u001b[33mWARNING: You are using pip version 21.2.4; however, version 21.3.1 is available.\n",
      "You should consider upgrading via the '/home/tousif/dl_env/bin/python3 -m pip install --upgrade pip' command.\u001b[0m\n"
     ]
    }
   ],
   "source": [
    "!pip3 install labelImg"
   ]
  }
 ],
 "metadata": {
  "kernelspec": {
   "display_name": "Python 3 (ipykernel)",
   "language": "python",
   "name": "python3"
  },
  "language_info": {
   "codemirror_mode": {
    "name": "ipython",
    "version": 3
   },
   "file_extension": ".py",
   "mimetype": "text/x-python",
   "name": "python",
   "nbconvert_exporter": "python",
   "pygments_lexer": "ipython3",
   "version": "3.8.10"
  }
 },
 "nbformat": 4,
 "nbformat_minor": 5
}
